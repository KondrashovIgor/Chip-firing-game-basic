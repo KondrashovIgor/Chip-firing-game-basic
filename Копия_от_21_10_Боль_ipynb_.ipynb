{
  "nbformat": 4,
  "nbformat_minor": 0,
  "metadata": {
    "colab": {
      "provenance": []
    },
    "kernelspec": {
      "name": "python3",
      "display_name": "Python 3"
    },
    "language_info": {
      "name": "python"
    }
  },
  "cells": [
    {
      "cell_type": "code",
      "source": [
        "#Тут константы: итерация 0(особая), входящий поток, значение черной дыры и забивочные переменные х,у для определения весов ребер. Тут граф строится\n",
        "c = 0\n",
        "w_In = 20\n",
        "w_q = -1*w_In\n",
        "x = 0\n",
        "y = 0\n",
        "\n",
        "omegaq = 1\n",
        "omegaab = 2\n",
        "omegaas = 10\n",
        "omegabs = 10\n",
        "omegabd = 3\n",
        "omegacd = 1\n",
        "omegaad = 1\n",
        "\n",
        "edge1 = (\"s\", \"a\", {'weight': omegaas})\n",
        "edge2 = (\"s\", \"b\", {'weight': omegabs})\n",
        "edge3 = (\"q\", \"a\", {'weight': omegaq})\n",
        "edge4 = (\"q\", \"b\", {'weight': omegaq})\n",
        "edge5 = (\"q\", \"c\", {'weight': omegaq})\n",
        "edge6 = (\"q\", \"d\", {'weight': omegaq})\n",
        "edge7 = (\"a\", \"b\", {'weight': omegaab})\n",
        "edge8 = (\"b\", \"d\", {'weight': omegabd})\n",
        "edge9 = (\"c\", \"d\", {'weight': omegacd})\n",
        "edge10 = (\"a\", \"d\", {'weight': omegaad})"
      ],
      "metadata": {
        "id": "_iqxgUvHiPqC"
      },
      "execution_count": null,
      "outputs": []
    },
    {
      "cell_type": "code",
      "source": [
        "#Тут мы строим репрезентацию графа по edge и смотрим нужные списки вершин, например списки соседей\n",
        "import matplotlib.pyplot as plt\n",
        "import networkx as nx\n",
        "\n",
        "list_to_G = [edge1, edge2, edge3, edge4, edge5, edge6, edge7, edge8, edge9, edge10]\n",
        "G = nx.Graph()\n",
        "G.add_edges_from(list_to_G)\n",
        "\n",
        "list(G.nodes)"
      ],
      "metadata": {
        "colab": {
          "base_uri": "https://localhost:8080/"
        },
        "id": "uNHeUdd3iuit",
        "outputId": "911b2735-589d-40c6-c5b1-02f57f7d1e2a"
      },
      "execution_count": null,
      "outputs": [
        {
          "output_type": "execute_result",
          "data": {
            "text/plain": [
              "['s', 'a', 'b', 'q', 'c', 'd']"
            ]
          },
          "metadata": {},
          "execution_count": 26
        }
      ]
    },
    {
      "cell_type": "code",
      "source": [
        "#Здесь определяем вес ребра для случаев первой и прочих итераций. После первой итерации \"источник\" закрывается.\n",
        "def omega1(x, y, c, G):\n",
        "  if G.has_edge(x, y):\n",
        "    if x == 's':\n",
        "      omega = 10\n",
        "    elif y == 's':\n",
        "      omega = 0\n",
        "    else:\n",
        "      omega = G.get_edge_data(x,y)['weight']\n",
        "  else:\n",
        "    omega = 0\n",
        "  return omega"
      ],
      "metadata": {
        "id": "jSdez02AJsXK"
      },
      "execution_count": null,
      "outputs": []
    },
    {
      "cell_type": "code",
      "source": [
        "#Здесь определяем первичные ценности вершин\n",
        "value_list = []\n",
        "\n",
        "def w(x):\n",
        "  if x == list(G.nodes)[0]:\n",
        "    w = w_In\n",
        "  elif x == list(G.nodes)[3]:\n",
        "    w = w_q\n",
        "  else:\n",
        "    w = 0\n",
        "  return w\n",
        "\n",
        "w('s')\n",
        "\n",
        "#Строим value_list - список ценностей всех вершин до начала игры\n",
        "for i in range(len(list(G.nodes))):\n",
        "  value_list.append(w(list(G.nodes)[i]))\n",
        "\n",
        "#Определяем сумму файринга для каждой вершины\n",
        "def total_To_Fire(i, G):\n",
        "  new_value = 0\n",
        "  for j in list(G.neighbors(i)):\n",
        "    currentVal = omega1(i, j, c, G)\n",
        "    new_value += currentVal\n",
        "  return new_value\n",
        "\n",
        "value_list\n",
        "\n",
        "#Делаем список сумм файринга\n",
        "firing_list = []\n",
        "for i in list(G.nodes):\n",
        "  firing_list.append(total_To_Fire(i, G))\n",
        "\n",
        "#лист-связка ценность вершины - сумма файринга\n",
        "fired_firing_list = [(i,j) for i,j in zip(value_list,firing_list)]\n",
        "#связка вершина - текущая ценность - сумма файринга\n",
        "vertices_fired_firing_list = [(i,j,k) for i,j,k in zip(G.nodes, value_list,firing_list)]\n",
        "S_fired_firing_list = sorted(vertices_fired_firing_list, key = lambda x: x[1], reverse = True)\n",
        "\n",
        "print(value_list)\n",
        "print(firing_list)\n",
        "print(vertices_fired_firing_list)\n",
        "print(S_fired_firing_list)"
      ],
      "metadata": {
        "colab": {
          "base_uri": "https://localhost:8080/"
        },
        "id": "eAmuTfIV3XQM",
        "outputId": "cfa07213-a02b-47aa-9021-427b4166ea19"
      },
      "execution_count": null,
      "outputs": [
        {
          "output_type": "stream",
          "name": "stdout",
          "text": [
            "[20, 0, 0, -20, 0, 0]\n",
            "[20, 4, 6, 4, 2, 6]\n",
            "[('s', 20, 20), ('a', 0, 4), ('b', 0, 6), ('q', -20, 4), ('c', 0, 2), ('d', 0, 6)]\n",
            "[('s', 20, 20), ('a', 0, 4), ('b', 0, 6), ('c', 0, 2), ('d', 0, 6), ('q', -20, 4)]\n"
          ]
        }
      ]
    },
    {
      "cell_type": "code",
      "source": [
        "for k in range(len(fired_firing_list)):\n",
        "  print(vertices_fired_firing_list[k])\n",
        "\n",
        "def vertex_To_Be_Fired(G, vertices_fired_firing_list):\n",
        "  FFL = vertices_fired_firing_list\n",
        "  FL = [item for item in FFL if item[1] >= item[2]]\n",
        "  SFL = sorted(FL, key = lambda x: x[1], reverse = True)\n",
        "  value_To_Fire = SFL[0][1]\n",
        "  vertex_To_Fire = SFL[0][0]\n",
        "  FL.clear()\n",
        "  return value_To_Fire, vertex_To_Fire\n",
        "\n",
        "vertex_To_Be_Fired(G, vertices_fired_firing_list)"
      ],
      "metadata": {
        "id": "1aXCBb6jMoOa",
        "outputId": "d7885394-cb7c-4893-92fe-7aac54ee802e",
        "colab": {
          "base_uri": "https://localhost:8080/"
        }
      },
      "execution_count": null,
      "outputs": [
        {
          "output_type": "stream",
          "name": "stdout",
          "text": [
            "('s', 20, 20)\n",
            "('a', 0, 4)\n",
            "('b', 0, 6)\n",
            "('q', -20, 4)\n",
            "('c', 0, 2)\n",
            "('d', 0, 6)\n"
          ]
        },
        {
          "output_type": "execute_result",
          "data": {
            "text/plain": [
              "(20, 's')"
            ]
          },
          "metadata": {},
          "execution_count": 29
        }
      ]
    },
    {
      "cell_type": "code",
      "source": [
        "value_To_Fire = vertex_To_Be_Fired(G, vertices_fired_firing_list)[0]\n",
        "vertex_To_Fire = vertex_To_Be_Fired(G, vertices_fired_firing_list)[1]\n",
        "\n",
        "print(vertex_To_Fire)\n",
        "print(list(G.neighbors(vertex_To_Fire)))"
      ],
      "metadata": {
        "id": "qA6wxuRdAhpC",
        "outputId": "9e17a24e-403a-4b86-a726-99c17063a100",
        "colab": {
          "base_uri": "https://localhost:8080/"
        }
      },
      "execution_count": null,
      "outputs": [
        {
          "output_type": "stream",
          "name": "stdout",
          "text": [
            "s\n",
            "['a', 'b']\n"
          ]
        }
      ]
    },
    {
      "cell_type": "code",
      "source": [
        "#Убеждаемся, что за итерация игры. После первой итерации игра к с==0 вернуться не должна.\n",
        "def check_iter(vertex_To_Fire):\n",
        "  if vertex_To_Fire == 's':\n",
        "    c = 0\n",
        "  else:\n",
        "    c = 1\n",
        "  return c\n",
        "\n",
        "#c = check_iter(vertex_To_Fire)\n",
        "\n",
        "#Выводим сумму, сколько будем вычитать из ценности vertex_To_Fire\n",
        "def summ_To_Fire(vertex_To_Fire, G):\n",
        "  c = check_iter(vertex_To_Fire)\n",
        "  new_value = 0\n",
        "  for i in list(G.neighbors(vertex_To_Fire)):\n",
        "    currentVal = omega1(vertex_To_Fire, i, c, G)\n",
        "    new_value += currentVal\n",
        "  return new_value"
      ],
      "metadata": {
        "id": "nbgafNModxna"
      },
      "execution_count": null,
      "outputs": []
    },
    {
      "cell_type": "code",
      "source": [
        "#Вычитаем сумму ребер между vertex_To_Fire и ее соседями, задаем, что новая ценность вершины под индексом vertex_To_Fire равна разности ее ценности до fire и весов ребер\n",
        "def fired_vertex(vertex_To_Fire, value_To_Fire, G):\n",
        "  a = value_To_Fire - summ_To_Fire(vertex_To_Fire, G)\n",
        "  return a\n",
        "\n",
        "#fired_vertex(vertex_To_Fire)\n",
        "#value_list[index_To_Fire] = fired_vertex(vertex_To_Fire)"
      ],
      "metadata": {
        "id": "cVhMyCqDcgN3"
      },
      "execution_count": null,
      "outputs": []
    },
    {
      "cell_type": "code",
      "source": [
        "#Тут добавляем каждому соседу vertex_To_Fire ценность, равную весу ребра между ней и vertex_To_Fire\n",
        "def add(vertex_To_Fire, value_list, G):\n",
        "  c = check_iter(vertex_To_Fire)\n",
        "  for i in list(G.neighbors(vertex_To_Fire)):\n",
        "      b = value_list[list(G.nodes).index(i)] + omega1(vertex_To_Fire, i,c, G)\n",
        "      value_list[list(G.nodes).index(i)] = b\n",
        "  return value_list\n",
        "\n",
        "#add(vertex_To_Fire)"
      ],
      "metadata": {
        "id": "Q_jjc6wj4smP"
      },
      "execution_count": null,
      "outputs": []
    },
    {
      "cell_type": "code",
      "source": [
        "#Осталось прикрутить условие остановки: если не существует вершины, в которой ценность выше чем сумма файринга, то стоп и принт конечной итерации.\n",
        "def chip_firing_game(value_list, firing_list, G):\n",
        "  fired_firing_list = [(i,j) for i,j in zip(value_list,firing_list)]\n",
        "  vertices_fired_firing_list = [(i,j,k) for i,j,k in zip(G.nodes, value_list,firing_list)]\n",
        "  cont_Criterion = [item for item in fired_firing_list if item[0]>=item[1]]\n",
        "  if len(cont_Criterion) >= 1:\n",
        "    value_To_Fire = vertex_To_Be_Fired(G, vertices_fired_firing_list)[0]\n",
        "    index_To_Fire = value_list.index(value_To_Fire)\n",
        "    vertex_To_Fire = vertex_To_Be_Fired(G, vertices_fired_firing_list)[1]\n",
        "\n",
        "    value_list[index_To_Fire] = fired_vertex(vertex_To_Fire, value_To_Fire, G)\n",
        "    value_list = add(vertex_To_Fire, value_list, G)\n",
        "    return value_list, ''\n",
        "  else:\n",
        "    return value_list, 'Game over with'\n",
        "\n",
        "for i in range(5):\n",
        "  print(value_list)\n",
        "  value_list, msg = chip_firing_game(value_list, firing_list, G)\n",
        "  if msg == 'Game over with':\n",
        "    print(f'{msg}:{value_list}')\n",
        "    break"
      ],
      "metadata": {
        "colab": {
          "base_uri": "https://localhost:8080/"
        },
        "id": "88S_DVJDfx26",
        "outputId": "b113eca6-d076-493d-aa66-1610b1b459f2"
      },
      "execution_count": null,
      "outputs": [
        {
          "output_type": "stream",
          "name": "stdout",
          "text": [
            "[0, 1, 1, -5, 1, 2]\n",
            "Game over with:[0, 1, 1, -5, 1, 2]\n"
          ]
        }
      ]
    }
  ]
}